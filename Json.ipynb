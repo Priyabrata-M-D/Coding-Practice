{
 "cells": [
  {
   "cell_type": "code",
   "execution_count": null,
   "id": "b08919e7",
   "metadata": {},
   "outputs": [],
   "source": [
    "#Python Json"
   ]
  },
  {
   "cell_type": "code",
   "execution_count": null,
   "id": "67c7246b",
   "metadata": {},
   "outputs": [],
   "source": [
    "import json\n",
    "person='{\"name\":\"Bob\",\"languages\":[\"English\",\"French\"]}'\n",
    "peron_dict=json.loads(person)\n",
    "print(peron_dict)"
   ]
  },
  {
   "cell_type": "code",
   "execution_count": null,
   "id": "b67d9291",
   "metadata": {},
   "outputs": [],
   "source": [
    "import json\n",
    "\"\"\"person='{\"name\":\"Bob\",\"languages\":[\"English\",\"French\"]}' #json only accepts string, byte or bytearray\n",
    "peron_dict=json.loads(person)\n",
    "print(peron_dict)\"\"\"\n",
    "\n",
    "person={\n",
    "    \"name\":\"Bob\",\n",
    "    \"languages\":[\"English\",\"French\"]}\n",
    "peron_json= json.dumps(person)\n",
    "print(peron_json)"
   ]
  },
  {
   "cell_type": "code",
   "execution_count": null,
   "id": "d8f305ed",
   "metadata": {},
   "outputs": [],
   "source": [
    "import json\n",
    "person='{\"name\":\"Bob\",\"languages\":[\"English\",\"French\"]}' #json only accepts string, byte or bytearray\n",
    "peron_dict=json.loads(person)\n",
    "print(peron_dict)"
   ]
  },
  {
   "cell_type": "code",
   "execution_count": null,
   "id": "01d04b1b",
   "metadata": {},
   "outputs": [],
   "source": [
    "{\n",
    "    \"firstName\": \"Hepler\",\n",
    "    \"lastName\": \"Scrot\",\n",
    "    \"gender\": \"man\",\n",
    "    \"age\": 28,\n",
    "    \"address\":{\n",
    "        \"streetAdd\":\"Mahatab Nagar\",\n",
    "        \"city\":\"BBSR\",\n",
    "        \"state\":\"Odisha\",\n",
    "        \"postal\":\"752050\"\n",
    "        },        \n",
    "    \"Contact\":[\n",
    "        {\"type\":\"personal\", \"no.\":\"7014650161\"}\n",
    "        ]\n",
    "}\n"
   ]
  },
  {
   "cell_type": "code",
   "execution_count": null,
   "id": "83cc0706",
   "metadata": {},
   "outputs": [],
   "source": [
    "import json\n",
    "with open(\"C:\\\\Users\\\\Priyabrata\\\\OneDrive\\\\Desktop\\\\Python_study_Materials-main\\\\data.json\") as f:\n",
    "    data=json.load(f)\n",
    "    print(data)\n"
   ]
  }
 ],
 "metadata": {
  "kernelspec": {
   "display_name": "Python 3 (ipykernel)",
   "language": "python",
   "name": "python3"
  },
  "language_info": {
   "codemirror_mode": {
    "name": "ipython",
    "version": 3
   },
   "file_extension": ".py",
   "mimetype": "text/x-python",
   "name": "python",
   "nbconvert_exporter": "python",
   "pygments_lexer": "ipython3",
   "version": "3.9.13"
  }
 },
 "nbformat": 4,
 "nbformat_minor": 5
}
