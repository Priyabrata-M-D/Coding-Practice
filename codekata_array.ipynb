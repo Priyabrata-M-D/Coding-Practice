{
 "cells": [
  {
   "cell_type": "code",
   "execution_count": null,
   "metadata": {},
   "outputs": [],
   "source": []
  }
 ],
 "metadata": {
  "kernelspec": {
   "display_name": "Python 3",
   "language": "python",
   "name": "python3"
  },
  "language_info": {
   "name": "python",
   "version": "3.10.8"
  },
  "orig_nbformat": 4,
  "vscode": {
   "interpreter": {
    "hash": "ebad67f52a29b0206a12581b47023d96d9a8ba93c13e5c33ae278f26166e0551"
   }
  }
 },
 "nbformat": 4,
 "nbformat_minor": 2
}
