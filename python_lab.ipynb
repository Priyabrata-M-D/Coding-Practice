{
 "cells": [
  {
   "cell_type": "code",
   "execution_count": null,
   "metadata": {},
   "outputs": [],
   "source": [
    "a=input()\n",
    "b=reversed(a)\n",
    "print(*b)"
   ]
  },
  {
   "cell_type": "code",
   "execution_count": null,
   "metadata": {},
   "outputs": [],
   "source": [
    "a=input()\n",
    "print(str(a)[::-1])"
   ]
  },
  {
   "cell_type": "code",
   "execution_count": null,
   "metadata": {},
   "outputs": [],
   "source": [
    "x=input()\n",
    "y=\"\".join(reversed(x))\n",
    "z=[]\n",
    "for i in y\n",
    "print(swap(y))"
   ]
  },
  {
   "cell_type": "code",
   "execution_count": null,
   "metadata": {},
   "outputs": [],
   "source": [
    "def reverse(s):\n",
    "    str = \"\"\n",
    "    for i in s:\n",
    "        str = i + str\n",
    "    return str\n",
    " \n",
    "s = input()\n",
    " \n",
    "print(\"The original string is : \", end=\"\")\n",
    "print(s)\n",
    " \n",
    "print(\"The reversed string(using loops) is : \", end=\"\")\n",
    "print(reverse(s))"
   ]
  },
  {
   "cell_type": "code",
   "execution_count": null,
   "metadata": {},
   "outputs": [],
   "source": [
    "# Python code to Reverse each word\n",
    "# of a Sentence individually\n",
    " \n",
    "# Function to Reverse words\n",
    "def reverseWordSentence(Sentence):\n",
    " \n",
    "    # All in One line\n",
    "    return ' '.join(word[::-1] for word in Sentence.split(\" \"))\n",
    " \n",
    "# Driver's Code\n",
    "Sentence = input()\n",
    "print(reverseWordSentence(Sentence))   "
   ]
  },
  {
   "cell_type": "code",
   "execution_count": null,
   "metadata": {},
   "outputs": [],
   "source": [
    "def rev_sent(sentense):\n",
    "    return \" \".join(x[::-1] for x in sentense.split(\" \"))\n",
    "\n",
    "sentense= input()\n",
    "print(rev_sent(sentense))"
   ]
  },
  {
   "cell_type": "code",
   "execution_count": null,
   "metadata": {},
   "outputs": [],
   "source": [
    "# your code goes here\n",
    "x=int(input())\n",
    "if x%2==0:\n",
    "    print('even')\n",
    "else:\n",
    "    print('odd')"
   ]
  },
  {
   "cell_type": "code",
   "execution_count": null,
   "metadata": {},
   "outputs": [],
   "source": [
    "a=int(input())\n",
    "b=list(map(int,input().split(' ')))\n",
    "if a==len(b):\n",
    "    \n",
    "    print(sorted(b)[-2])\n",
    "else:\n",
    "    print('error')"
   ]
  },
  {
   "cell_type": "code",
   "execution_count": null,
   "metadata": {},
   "outputs": [],
   "source": [
    "N=int(input(\"No. of test cases\"))\n",
    "S=int(input(\"No. of students\"))\n",
    "marks_arr=list(map(int, input().split(' ')))\n",
    "querries=int(input())\n",
    "def marks(querries):\n",
    "    a=global(int(input()))\n",
    "    print(a)\n",
    "    return a\n",
    "\n",
    "for i in range(1,querries):\n",
    "    marks(querries)"
   ]
  },
  {
   "cell_type": "code",
   "execution_count": null,
   "metadata": {},
   "outputs": [],
   "source": [
    "# importing libraries and packages\n",
    "import snscrape.modules.twitter as sntwitter\n",
    "import pandas\n",
    "\n",
    "# Creating list to append tweet data \n",
    "tweets_list1 = []\n",
    "\n",
    "# Using TwitterSearchScraper to scrape data and append tweets to list\n",
    "for i,tweet in enumerate(sntwitter.TwitterSearchScraper('from:bitgertbrise').get_items()): #declare a username \n",
    "    if i>100: #number of tweets you want to scrape\n",
    "        break\n",
    "    tweets_list1.append([tweet.date, tweet.id, tweet.content, tweet.user.username]) #declare the attributes to be returned\n",
    "    \n",
    "# Creating a dataframe from the tweets list above \n",
    "tweets_df1 = pd.DataFrame(tweets_list1, columns=['Datetime', 'Tweet Id', 'Text', 'Username'])\n"
   ]
  },
  {
   "cell_type": "code",
   "execution_count": null,
   "metadata": {},
   "outputs": [],
   "source": [
    "# Define the menu items and prices\n",
    "menu = {\"oniondosa\": 90, \"plaindosa\": 40, \"ravadosa\": 75, \"idli\": 10, \"vada\": 5, \"poori\": 30, \"chapathi\": 30, \"pongal\": 35, \"tea\": 25, \"coffee\": 35, \"meals\": 75}\n",
    "\n",
    "# Define the GST rate\n",
    "GST = 0.05\n",
    "\n",
    "# Function to calculate the bill\n",
    "def calculate_bill(order):\n",
    "    total_amount = 0\n",
    "    for item, count in order.items():\n",
    "        if item in menu:\n",
    "            total_amount += menu[item] * count\n",
    "        else:\n",
    "            return \"Sorry, Only recipes on the menu!\"\n",
    "    return total_amount * (1 + GST)\n",
    "\n",
    "# Example usage of the function\n",
    "order = {\"oniondosa\": 2, \"tea\": 1, \"poori\": 3}\n",
    "result = calculate_bill(order)\n",
    "if isinstance(result, float):\n",
    "    print(\"Total Price(GST inclusive):Rs {:.1f}\".format(result))\n",
    "else:\n",
    "    print(result)\n"
   ]
  },
  {
   "cell_type": "code",
   "execution_count": null,
   "metadata": {},
   "outputs": [],
   "source": [
    "a=map(dict,input().split(' '))\n",
    "print(*a)"
   ]
  },
  {
   "cell_type": "code",
   "execution_count": null,
   "metadata": {},
   "outputs": [],
   "source": [
    "# Define the menu items and prices\n",
    "menu = {\"oniondosa\": 90, \"plaindosa\": 40, \"ravadosa\": 75, \"idli\": 10, \"vada\": 5, \"poori\": 30, \"chapathi\": 30, \"pongal\": 35, \"tea\": 25, \"coffee\": 35, \"meals\": 75}\n",
    "\n",
    "# Define the GST rate\n",
    "GST = 0.05\n",
    "\n",
    "# Get the order from the user\n",
    "order = input(\"Enter the order (Recipe and count separated by space): \")\n",
    "\n",
    "# Split the order into items and count\n",
    "items = order.strip().split(\" \")\n",
    "order_dict = {}\n",
    "for i in range(0, len(items), 2):\n",
    "    recipe = items[i]\n",
    "    count = int(items[i+1])\n",
    "    order_dict[recipe] = count\n",
    "\n",
    "# Calculate the total bill\n",
    "total_bill = 0\n",
    "for recipe, count in order_dict.items():\n",
    "    if recipe in menu:\n",
    "        total_bill += menu[recipe] * count\n",
    "    else:\n",
    "        print(\"Sorry, Only recipes on the menu!\")\n",
    "        break\n",
    "else:\n",
    "    # If all items are in the menu, calculate the final bill\n",
    "    total_bill = total_bill + total_bill * GST\n",
    "    print(f\"Total Price (GST inclusive): Rs {total_bill:.1f}\")\n"
   ]
  },
  {
   "cell_type": "code",
   "execution_count": null,
   "metadata": {},
   "outputs": [],
   "source": [
    "import ast\n",
    "\n",
    "# Define the menu items and prices\n",
    "menu = {\"oniondosa\": 90, \"plaindosa\": 40, \"ravadosa\": 75, \"idli\": 10, \"vada\": 5, \"poori\": 30, \"chapathi\": 30, \"pongal\": 35, \"tea\": 25, \"coffee\": 35, \"meals\": 75}\n",
    "\n",
    "# Define the GST rate\n",
    "GST = 0.05\n",
    "\n",
    "# Function to calculate the bill\n",
    "def calculate_bill(order):\n",
    "    total_amount = 0\n",
    "    for item, count in order.items():\n",
    "        if item in menu:\n",
    "            total_amount += menu[item] * count\n",
    "        else:\n",
    "            return \"Sorry, Only recipes on the menu!\"\n",
    "    total_amount *= (1 + GST)\n",
    "    return f\"Total Price(GST inclusive):Rs {total_amount:.2f}\"\n",
    "\n",
    "# Read the order from the user\n",
    "order = input(\"Enter the items and count in the following format:\\nitem_name count\\n\")\n",
    "order = dict(item.split() for item in order.split(\"\\n\"))\n",
    "order = {key: int(value) for key, value in order.items()}\n",
    "\n",
    "# Calculate and print the bill\n",
    "print(calculate_bill(order))\n"
   ]
  },
  {
   "cell_type": "code",
   "execution_count": null,
   "metadata": {},
   "outputs": [],
   "source": [
    "import pandas as pd\n",
    "DF= [{'a':10, 'b':20}, {'a':5, 'b':10, 'c':20},{'a':7, 'd':10, 'e':20}]\n",
    "D1 = pd.DataFrame(DF)\n",
    "D1"
   ]
  },
  {
   "cell_type": "code",
   "execution_count": null,
   "metadata": {},
   "outputs": [],
   "source": [
    "import pandas as pd\n",
    "\n",
    "S1 = pd.Series(['NewDelhi', 'WashingtonDC', 'London', 'Paris'], index=['A', 'B', 'C', 'D'])\n",
    "\n",
    "S1[1 : 3] = 'ND'"
   ]
  },
  {
   "cell_type": "code",
   "execution_count": null,
   "metadata": {},
   "outputs": [],
   "source": [
    "a=list(map(int,input().split(' ')))\n",
    "print(*a)"
   ]
  },
  {
   "cell_type": "code",
   "execution_count": null,
   "metadata": {},
   "outputs": [],
   "source": [
    "i=0\n",
    "d=[]\n",
    "while (i<3):\n",
    "    a=int(input())\n",
    "    d.append(a)\n",
    "    i+=1\n",
    "print(*d)"
   ]
  },
  {
   "cell_type": "code",
   "execution_count": null,
   "metadata": {},
   "outputs": [],
   "source": [
    "#defining a function\n",
    "def dectobin(x):\n",
    "#checking conditions\n",
    "    if x>=1:\n",
    "#calling here the function again and again to repeat step till condition satisfies\n",
    "        dectobin(x//2)\n",
    "#printing the remainder\n",
    "    print(x%2,end='')\n",
    "\n",
    "#user input and calling the function\n",
    "a=input()\n",
    "dectobin(int(a))"
   ]
  },
  {
   "cell_type": "code",
   "execution_count": null,
   "metadata": {},
   "outputs": [],
   "source": [
    "#Finding GCD of numbers using Euclids algorithm\n",
    "\n",
    "def hcf(x,y):\n",
    "    if x > y:\n",
    "        smaller = y\n",
    "    else:\n",
    "        smaller = x\n",
    "    for i in range(1, smaller+1):\n",
    "        if((x % i == 0) and (y % i == 0)):\n",
    "            hcf = i \n",
    "    return hcf\n",
    "\n",
    "a,b=map(int,input().split(' '))\n",
    "hcf(a,b)"
   ]
  },
  {
   "cell_type": "code",
   "execution_count": null,
   "metadata": {},
   "outputs": [],
   "source": [
    "a,b=list(map(int,input().split(' ')))\n",
    "hcf=0\n",
    "if a>b:\n",
    "    smaller=b\n",
    "else:\n",
    "    smaller=a\n",
    "for i in range(1,smaller+1):\n",
    "    if((a % i == 0) and (b % i == 0)):\n",
    "            hcf = i\n",
    "print(hcf)"
   ]
  },
  {
   "cell_type": "code",
   "execution_count": null,
   "metadata": {},
   "outputs": [],
   "source": [
    "x=input().split(' ')\n",
    "y=list(map(int,x))\n",
    "a=y[0]\n",
    "b=y[1]\n",
    "hcf=0\n",
    "h=[]\n",
    "p=min(a,b)\n",
    "if a<=3 and b<=3:\n",
    "  print(\"1\")\n",
    "else:\n",
    "  for i in range(1,p+1,+1):\n",
    "    if a%i==0 and b%i==0:\n",
    "      hcf=i\n",
    "      h.append(i)\n",
    "print(max(*h))"
   ]
  },
  {
   "cell_type": "code",
   "execution_count": null,
   "metadata": {},
   "outputs": [],
   "source": [
    "m = list(map(int, str(int(input())).strip()))\n",
    "sm=0\n",
    "for i in m:\n",
    "  sm+=i\n",
    "  i+=1\n",
    "print(sm)"
   ]
  },
  {
   "cell_type": "code",
   "execution_count": null,
   "metadata": {},
   "outputs": [],
   "source": [
    "def sum_digits(m):\n",
    "    return sum(int(x) for x in m)\n",
    "\n",
    "m=[x for x in str(int(input()))]\n",
    "print(sum_digits(m))"
   ]
  },
  {
   "cell_type": "code",
   "execution_count": null,
   "metadata": {},
   "outputs": [],
   "source": [
    "print(len(\"\".join(input().split(' '))))"
   ]
  },
  {
   "cell_type": "code",
   "execution_count": null,
   "metadata": {},
   "outputs": [],
   "source": [
    "y=input().split(' ')\n",
    "b=[]\n",
    "if len(y)<2:\n",
    "  a1=y[0]\n",
    "  for i in a1:\n",
    "    b.append(i)\n",
    "else:\n",
    "  a1=y[0]\n",
    "  a2=y[1]\n",
    "  for i in a1:\n",
    "    b.append(i)\n",
    "  for j in a2:\n",
    "    b.append(j)\n",
    "print(len(b))"
   ]
  },
  {
   "cell_type": "code",
   "execution_count": null,
   "metadata": {},
   "outputs": [],
   "source": [
    "m=list(map(int,input().strip()))\n",
    "odd=[x for x in m if x%2==0]\n",
    "even=[x for x in m if x%2!=0]\n",
    "even.sort(reverse=False)\n",
    "odd.sort(reverse=False)\n",
    "print(*even)\n",
    "print(*odd)"
   ]
  },
  {
   "cell_type": "code",
   "execution_count": null,
   "metadata": {},
   "outputs": [],
   "source": [
    "a=int(input())\n",
    "for i in range(a+1):\n",
    "    print(a)"
   ]
  },
  {
   "cell_type": "code",
   "execution_count": null,
   "metadata": {},
   "outputs": [],
   "source": [
    "def nterms(n):\n",
    "    if n<0:\n",
    "        print('Error')\n",
    "    elif n==0:\n",
    "        return 0\n",
    "    else:\n",
    "        return n**2\n",
    "\n",
    "n=int(input())\n",
    "print(nterms(n))"
   ]
  },
  {
   "cell_type": "code",
   "execution_count": null,
   "metadata": {},
   "outputs": [],
   "source": [
    "y=int(input())\n",
    "x=[]\n",
    "if y<0:\n",
    "  print('Error')\n",
    "elif y==0:\n",
    "  print('0')\n",
    "else:\n",
    "  for i in range(1,y+1):\n",
    "      i=i**2\n",
    "      x.append(i)\n",
    "      i+=1\n",
    "  print(x[-1])"
   ]
  },
  {
   "cell_type": "code",
   "execution_count": null,
   "metadata": {},
   "outputs": [],
   "source": [
    "#x=int(input())\n",
    "#y=list(map(int, input().split(' ')))\n",
    "def common_ids(n, arr):\n",
    "    from collections import Counter\n",
    "    count = Counter(arr)\n",
    "    result = [k for k, v in count.items() if v > 1]\n",
    "    if len(result) == 0:\n",
    "        return -1\n",
    "    return print(*result)\n",
    "\n",
    "n = int(input())\n",
    "arr = list(map(int, input().split(' ')))\n",
    "common_ids(n, arr)\n"
   ]
  },
  {
   "cell_type": "code",
   "execution_count": null,
   "metadata": {},
   "outputs": [],
   "source": [
    "def common_ids(n,arr):\n",
    "    from collections import Counter\n",
    "    count=Counter(arr)\n",
    "    result=[x for x,y in count.items() if y>1]\n",
    "    if len(result)==0:\n",
    "        return -1\n",
    "    else:\n",
    "        return (print(*result))\n",
    "    \n",
    "a=int(input())\n",
    "b=list(map(int, input().split(' ')))\n",
    "common_ids(a,b)"
   ]
  },
  {
   "cell_type": "code",
   "execution_count": null,
   "metadata": {},
   "outputs": [],
   "source": []
  }
 ],
 "metadata": {
  "kernelspec": {
   "display_name": "Python 3",
   "language": "python",
   "name": "python3"
  },
  "language_info": {
   "codemirror_mode": {
    "name": "ipython",
    "version": 3
   },
   "file_extension": ".py",
   "mimetype": "text/x-python",
   "name": "python",
   "nbconvert_exporter": "python",
   "pygments_lexer": "ipython3",
   "version": "3.10.8"
  },
  "orig_nbformat": 4,
  "vscode": {
   "interpreter": {
    "hash": "ebad67f52a29b0206a12581b47023d96d9a8ba93c13e5c33ae278f26166e0551"
   }
  }
 },
 "nbformat": 4,
 "nbformat_minor": 2
}
