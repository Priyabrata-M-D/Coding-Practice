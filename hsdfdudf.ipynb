{
 "cells": [
  {
   "cell_type": "code",
   "execution_count": 1,
   "metadata": {},
   "outputs": [
    {
     "name": "stdout",
     "output_type": "stream",
     "text": [
      "Enter your age: \n",
      "45 \n",
      "Eligible to drive\n"
     ]
    }
   ],
   "source": [
    "print('Enter your age: ')\n",
    "x=int(input())\n",
    "if x>=18 and x<70:\n",
    "    print(x,\"\\nEligible to drive\")\n",
    "elif x<18 and x>12:\n",
    "    print(x,\"\\nNot eligible to drive\")\n",
    "else:\n",
    "    print(x,\"\\nerror\")"
   ]
  },
  {
   "cell_type": "code",
   "execution_count": 4,
   "metadata": {},
   "outputs": [
    {
     "name": "stdout",
     "output_type": "stream",
     "text": [
      "This calculator is Designed for two numbers By Priyabrata\n",
      "25.0+25.0=50.0\n",
      "Invalid Input\n"
     ]
    }
   ],
   "source": [
    "print(\"This calculator is Designed for two numbers By Priyabrata\")\n",
    "def calculator():\n",
    "    choice=input('''\n",
    "    Enter the follwingsfor the operations:\n",
    "    '+' for addition\n",
    "    '-' for substraction\n",
    "    '*' for multiplication\n",
    "    '/' for division\n",
    "    '**' for exponential\n",
    "    '%' for modulous\n",
    "    ''')\n",
    "    num1=float(input(\"Enter First Number\"))\n",
    "    num2=float(input(\"Enter Second Number\"))\n",
    "    if choice=='+':\n",
    "        if num1==56:\n",
    "            print(\"56+9=77\")\n",
    "        else:\n",
    "            print(f'{num1}+{num2}={num1+num2}')\n",
    "    elif choice=='-':\n",
    "        print(f'{num1}-{num2}={num1-num2}')\n",
    "    elif choice=='*':\n",
    "        if num1==45:\n",
    "            print(\"45*3=555\")\n",
    "        else:\n",
    "            print(f'{num1}*{num2}={num1*num2}')\n",
    "    elif choice=='/':\n",
    "        if num1==56:\n",
    "            print(\"56/6=4\")\n",
    "        else:\n",
    "            print(f'{num1}/{num2}={num1/num2}')\n",
    "    elif choice=='**':\n",
    "        print(f'{num1}**{num2}={num1**num2}')\n",
    "    elif choice=='%':\n",
    "        print(f'{num1}%{num2}={num1%num2}')\n",
    "    else:\n",
    "        print('Invalid Input!! Try Again')\n",
    "    loop()\n",
    "\n",
    "def loop():\n",
    "    val=input('''If you want any arithmetic operation again\n",
    "    Enter 'y' for Yes or 'n' to exit''')\n",
    "    if val=='y':\n",
    "        calculator()\n",
    "    elif val=='n':\n",
    "        print('Thanks!, Visit Again')\n",
    "    else:\n",
    "        print('Invalid Input')\n",
    "\n",
    "calculator()"
   ]
  },
  {
   "cell_type": "code",
   "execution_count": null,
   "metadata": {},
   "outputs": [],
   "source": []
  }
 ],
 "metadata": {
  "kernelspec": {
   "display_name": "Python 3",
   "language": "python",
   "name": "python3"
  },
  "language_info": {
   "codemirror_mode": {
    "name": "ipython",
    "version": 3
   },
   "file_extension": ".py",
   "mimetype": "text/x-python",
   "name": "python",
   "nbconvert_exporter": "python",
   "pygments_lexer": "ipython3",
   "version": "3.10.8"
  },
  "orig_nbformat": 4,
  "vscode": {
   "interpreter": {
    "hash": "ebad67f52a29b0206a12581b47023d96d9a8ba93c13e5c33ae278f26166e0551"
   }
  }
 },
 "nbformat": 4,
 "nbformat_minor": 2
}
