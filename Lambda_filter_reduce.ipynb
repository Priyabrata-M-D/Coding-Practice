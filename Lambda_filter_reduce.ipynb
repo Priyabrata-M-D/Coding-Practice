{
 "cells": [
  {
   "cell_type": "code",
   "execution_count": 1,
   "id": "0aba0b50",
   "metadata": {},
   "outputs": [],
   "source": [
    "#lambda"
   ]
  },
  {
   "cell_type": "code",
   "execution_count": 2,
   "id": "a0c1098e",
   "metadata": {},
   "outputs": [],
   "source": [
    "def add_num():\n",
    "    a = 10\n",
    "    b = 20\n",
    "    c = a +b\n",
    "    return c"
   ]
  },
  {
   "cell_type": "code",
   "execution_count": 16,
   "id": "830c6a10",
   "metadata": {},
   "outputs": [],
   "source": [
    "a = lambda x, b: x + 2 + b"
   ]
  },
  {
   "cell_type": "code",
   "execution_count": 17,
   "id": "85f2d0e8",
   "metadata": {},
   "outputs": [
    {
     "ename": "TypeError",
     "evalue": "<lambda>() missing 1 required positional argument: 'b'",
     "output_type": "error",
     "traceback": [
      "\u001b[1;31m---------------------------------------------------------------------------\u001b[0m",
      "\u001b[1;31mTypeError\u001b[0m                                 Traceback (most recent call last)",
      "\u001b[1;32m~\\AppData\\Local\\Temp/ipykernel_27328/46257682.py\u001b[0m in \u001b[0;36m<module>\u001b[1;34m\u001b[0m\n\u001b[1;32m----> 1\u001b[1;33m \u001b[0ma\u001b[0m\u001b[1;33m(\u001b[0m\u001b[1;36m10\u001b[0m\u001b[1;33m)\u001b[0m\u001b[1;33m\u001b[0m\u001b[1;33m\u001b[0m\u001b[0m\n\u001b[0m",
      "\u001b[1;31mTypeError\u001b[0m: <lambda>() missing 1 required positional argument: 'b'"
     ]
    }
   ],
   "source": [
    "a(10)"
   ]
  },
  {
   "cell_type": "code",
   "execution_count": 11,
   "id": "75ba4663",
   "metadata": {},
   "outputs": [
    {
     "data": {
      "text/plain": [
       "14"
      ]
     },
     "execution_count": 11,
     "metadata": {},
     "output_type": "execute_result"
    }
   ],
   "source": [
    "n(12,2)"
   ]
  },
  {
   "cell_type": "code",
   "execution_count": 12,
   "id": "ddc87c8a",
   "metadata": {},
   "outputs": [],
   "source": [
    "lst = [1,2,3,4,5]"
   ]
  },
  {
   "cell_type": "code",
   "execution_count": 13,
   "id": "12a8c866",
   "metadata": {},
   "outputs": [],
   "source": [
    "n = list(map(lambda x: x * 2, lst))"
   ]
  },
  {
   "cell_type": "code",
   "execution_count": 14,
   "id": "083fb147",
   "metadata": {},
   "outputs": [
    {
     "data": {
      "text/plain": [
       "[2, 4, 6, 8, 10]"
      ]
     },
     "execution_count": 14,
     "metadata": {},
     "output_type": "execute_result"
    }
   ],
   "source": [
    "n"
   ]
  },
  {
   "cell_type": "code",
   "execution_count": 22,
   "id": "8fb4b7be",
   "metadata": {},
   "outputs": [],
   "source": [
    "f = list(filter(lambda x: x < 3, lst))"
   ]
  },
  {
   "cell_type": "code",
   "execution_count": 23,
   "id": "469f8847",
   "metadata": {},
   "outputs": [
    {
     "data": {
      "text/plain": [
       "[1, 2]"
      ]
     },
     "execution_count": 23,
     "metadata": {},
     "output_type": "execute_result"
    }
   ],
   "source": [
    "f"
   ]
  },
  {
   "cell_type": "code",
   "execution_count": 24,
   "id": "2437390b",
   "metadata": {},
   "outputs": [],
   "source": [
    "#reduce ------> 1"
   ]
  },
  {
   "cell_type": "code",
   "execution_count": 25,
   "id": "aecca3bf",
   "metadata": {},
   "outputs": [],
   "source": [
    "# n to 0ne"
   ]
  },
  {
   "cell_type": "code",
   "execution_count": 30,
   "id": "dc47d41b",
   "metadata": {},
   "outputs": [],
   "source": [
    "lst_str = ['virat', 'sachin', 'dravid']"
   ]
  },
  {
   "cell_type": "code",
   "execution_count": 31,
   "id": "4b5ef9fd",
   "metadata": {},
   "outputs": [],
   "source": [
    "from functools import reduce"
   ]
  },
  {
   "cell_type": "code",
   "execution_count": 34,
   "id": "229255e8",
   "metadata": {},
   "outputs": [],
   "source": [
    "g = reduce(lambda x, y: x +' plays after ' +  y, lst_str)"
   ]
  },
  {
   "cell_type": "code",
   "execution_count": 35,
   "id": "3b33eacf",
   "metadata": {},
   "outputs": [
    {
     "data": {
      "text/plain": [
       "'virat plays after sachin plays after dravid'"
      ]
     },
     "execution_count": 35,
     "metadata": {},
     "output_type": "execute_result"
    }
   ],
   "source": [
    "g"
   ]
  },
  {
   "cell_type": "code",
   "execution_count": 47,
   "id": "cee3092b",
   "metadata": {},
   "outputs": [
    {
     "data": {
      "text/plain": [
       "'sachin 10'"
      ]
     },
     "execution_count": 47,
     "metadata": {},
     "output_type": "execute_result"
    }
   ],
   "source": [
    "'sachin' + ' 10'"
   ]
  },
  {
   "cell_type": "code",
   "execution_count": null,
   "id": "b41addae",
   "metadata": {},
   "outputs": [],
   "source": []
  },
  {
   "cell_type": "code",
   "execution_count": 48,
   "id": "7f676908",
   "metadata": {},
   "outputs": [],
   "source": [
    "#computional thinking"
   ]
  },
  {
   "cell_type": "code",
   "execution_count": 50,
   "id": "aa168d01",
   "metadata": {},
   "outputs": [
    {
     "name": "stdout",
     "output_type": "stream",
     "text": [
      "30\n"
     ]
    }
   ],
   "source": [
    "a,b = 10, 20\n",
    "print(a + b)"
   ]
  },
  {
   "cell_type": "code",
   "execution_count": 51,
   "id": "07c91e4b",
   "metadata": {},
   "outputs": [],
   "source": [
    "lst = [1,2,3,4,5]"
   ]
  },
  {
   "cell_type": "code",
   "execution_count": 54,
   "id": "eaf4834b",
   "metadata": {},
   "outputs": [
    {
     "name": "stdout",
     "output_type": "stream",
     "text": [
      "2\n",
      "4\n"
     ]
    }
   ],
   "source": [
    "for i in lst:\n",
    "    if i % 2 == 0:\n",
    "        print(i)"
   ]
  },
  {
   "cell_type": "code",
   "execution_count": 53,
   "id": "c0259de3",
   "metadata": {},
   "outputs": [
    {
     "name": "stdout",
     "output_type": "stream",
     "text": [
      "even\n"
     ]
    }
   ],
   "source": [
    "if i % 2 == 0:\n",
    "    print(\"even\")"
   ]
  },
  {
   "cell_type": "code",
   "execution_count": null,
   "id": "f28342de",
   "metadata": {},
   "outputs": [],
   "source": [
    "1 0 '10 times'\n",
    "even 1 even one\n",
    "\n",
    "odd 1 odd one"
   ]
  },
  {
   "cell_type": "code",
   "execution_count": 62,
   "id": "c1ecb4fa",
   "metadata": {},
   "outputs": [
    {
     "name": "stdout",
     "output_type": "stream",
     "text": [
      "enter the number: 1\n",
      "enter the number: 1\n",
      "enter the number: 0\n",
      "enter the number: 1\n",
      "enter the number: 0\n",
      "enter the number: 1\n",
      "enter the number: 0\n",
      "enter the number: 1\n",
      "enter the number: 0\n",
      "enter the number: 1\n"
     ]
    }
   ],
   "source": [
    "lst = []\n",
    "for i in range(10):\n",
    "    a = int(input('enter the number: '))\n",
    "    lst.append(a)"
   ]
  },
  {
   "cell_type": "code",
   "execution_count": 63,
   "id": "24fdf935",
   "metadata": {},
   "outputs": [
    {
     "data": {
      "text/plain": [
       "[1, 1, 0, 1, 0, 1, 0, 1, 0, 1]"
      ]
     },
     "execution_count": 63,
     "metadata": {},
     "output_type": "execute_result"
    }
   ],
   "source": [
    "lst"
   ]
  },
  {
   "cell_type": "code",
   "execution_count": 64,
   "id": "4682b78b",
   "metadata": {},
   "outputs": [],
   "source": [
    "count = 0\n",
    "for i in lst:\n",
    "    if i == 1:\n",
    "        count = count + 1"
   ]
  },
  {
   "cell_type": "code",
   "execution_count": 65,
   "id": "5fc3f91c",
   "metadata": {},
   "outputs": [
    {
     "data": {
      "text/plain": [
       "6"
      ]
     },
     "execution_count": 65,
     "metadata": {},
     "output_type": "execute_result"
    }
   ],
   "source": [
    "count"
   ]
  },
  {
   "cell_type": "code",
   "execution_count": 66,
   "id": "5313da12",
   "metadata": {},
   "outputs": [
    {
     "name": "stdout",
     "output_type": "stream",
     "text": [
      "even\n"
     ]
    }
   ],
   "source": [
    "if count % 2 == 0:\n",
    "    print(\"even\")\n",
    "else:\n",
    "    print(\"odd\")"
   ]
  },
  {
   "cell_type": "code",
   "execution_count": 67,
   "id": "d16b40e1",
   "metadata": {},
   "outputs": [],
   "source": [
    "#decomposition\n",
    "#pattern reco\n",
    "#absration\n",
    "#algo thinking"
   ]
  },
  {
   "cell_type": "code",
   "execution_count": null,
   "id": "284428a0",
   "metadata": {},
   "outputs": [],
   "source": []
  }
 ],
 "metadata": {
  "kernelspec": {
   "display_name": "Python 3 (ipykernel)",
   "language": "python",
   "name": "python3"
  },
  "language_info": {
   "codemirror_mode": {
    "name": "ipython",
    "version": 3
   },
   "file_extension": ".py",
   "mimetype": "text/x-python",
   "name": "python",
   "nbconvert_exporter": "python",
   "pygments_lexer": "ipython3",
   "version": "3.7.8"
  }
 },
 "nbformat": 4,
 "nbformat_minor": 5
}
