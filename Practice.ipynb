{
 "cells": [
  {
   "cell_type": "code",
   "execution_count": null,
   "metadata": {},
   "outputs": [],
   "source": [
    "print(\"This calculator is Designed for two numbers By Priyabrata\")\n",
    "def calculator():\n",
    "    choice=input('''\n",
    "    Enter the follwingsfor the operations:\n",
    "    '+' for addition\n",
    "    '-' for substraction\n",
    "    '*' for multiplication\n",
    "    '/' for division\n",
    "    '**' for exponential\n",
    "    '%' for modulous\n",
    "    ''')\n",
    "    num1=float(input(\"Enter First Number\"))\n",
    "    num2=float(input(\"Enter Second Number\"))\n",
    "    if choice=='+':\n",
    "        if num1==56:\n",
    "            print(\"56+9=77\")\n",
    "        else:\n",
    "            print(f'{num1}+{num2}={num1+num2}')\n",
    "    elif choice=='-':\n",
    "        print(f'{num1}-{num2}={num1-num2}')\n",
    "    elif choice=='*':\n",
    "        if num1==45:\n",
    "            print(\"45*3=555\")\n",
    "        else:\n",
    "            print(f'{num1}*{num2}={num1*num2}')\n",
    "    elif choice=='/':\n",
    "        if num1==56:\n",
    "            print(\"56/6=4\")\n",
    "        else:\n",
    "            print(f'{num1}/{num2}={num1/num2}')\n",
    "    elif choice=='**':\n",
    "        print(f'{num1}**{num2}={num1**num2}')\n",
    "    elif choice=='%':\n",
    "        print(f'{num1}%{num2}={num1%num2}')\n",
    "    else:\n",
    "        print('Invalid Input!! Try Again')\n",
    "    loop()\n",
    "\n",
    "def loop():\n",
    "    val=input('''If you want any arithmetic operation again\n",
    "    Enter 'y' for Yes or 'n' to exit''')\n",
    "    if val=='y':\n",
    "        calculator()\n",
    "    elif val=='n':\n",
    "        print('Thanks!, Visit Again')\n",
    "    else:\n",
    "        print('Invalid Input')\n",
    "\n",
    "calculator()"
   ]
  },
  {
   "cell_type": "code",
   "execution_count": null,
   "metadata": {
    "scrolled": true
   },
   "outputs": [],
   "source": [
    "print('''  ...Welcome To Number Guess Game...\n",
    "\n",
    "              **By Priyabrata**\n",
    "\n",
    "          **You Have Only 9 Attempts **\n",
    "''')\n",
    "nguess=0\n",
    "while(1):\n",
    "    x=int(input(\"Enter a Number: \"))\n",
    "    nguess+=1\n",
    "    if nguess<9:\n",
    "        if x>76:\n",
    "            print(\"Enter a lesser no.\")\n",
    "            continue\n",
    "        elif x<76:\n",
    "            print(\"Enter a bigger no.\")\n",
    "            continue\n",
    "        else:\n",
    "            print(f\"Correct Answer is {x} in {nguess} attempts\")\n",
    "            break\n",
    "    else:\n",
    "        print(f\"Game Over!! Tried attempts are {nguess}\")\n",
    "        break\n"
   ]
  },
  {
   "cell_type": "code",
   "execution_count": null,
   "metadata": {},
   "outputs": [],
   "source": [
    "i=0\n",
    "while(True):\n",
    "    if(i+1<5):\n",
    "        i+=1\n",
    "        continue\n",
    "    print(i+1, end=\" \")\n",
    "    if(i==44):\n",
    "        break\n",
    "    i+=1"
   ]
  },
  {
   "cell_type": "code",
   "execution_count": null,
   "metadata": {},
   "outputs": [],
   "source": [
    "x=int(input(\"Enter a No.:\\n\"))\n",
    "x+=10\n",
    "print(x)\n",
    "x-=5\n",
    "print(x)\n",
    "x*=20\n",
    "print(x)\n",
    "x/=10\n",
    "print(x)"
   ]
  },
  {
   "cell_type": "code",
   "execution_count": null,
   "metadata": {},
   "outputs": [],
   "source": [
    "x=int(input())\n",
    "y=list(map(int,input().split(' ')))\n",
    "if x==len(y):\n",
    "  \n",
    "  for i in range(1,len(y)):\n",
    "    ans=y[0]\n",
    "    ans=ans&y[i]\n",
    "print(ans)"
   ]
  },
  {
   "cell_type": "code",
   "execution_count": null,
   "metadata": {},
   "outputs": [],
   "source": [
    "def OR(a, n):\n",
    " ans = a[0]\n",
    " for i in range(1,n):\n",
    "    ans=ans|a[i]\n",
    " return ans\n",
    "\n",
    "if __name__=='__main__':\n",
    "    a=[4,3,2,1]\n",
    "    #a = list(map(int,input().split(' ')))\n",
    "    #n = int(input())\n",
    "    n=len(a)\n",
    "print(OR(a, n))\n"
   ]
  },
  {
   "cell_type": "code",
   "execution_count": null,
   "metadata": {},
   "outputs": [],
   "source": [
    "x=list(map(str,input().strip(' ')))\n",
    "for i in range(0,len(x)-1,2):\n",
    "    x[i],x[i+1]=x[i+1],x[i]\n",
    "print(''.join(x))"
   ]
  },
  {
   "cell_type": "code",
   "execution_count": null,
   "metadata": {},
   "outputs": [],
   "source": [
    "x=list(map(int,input().split(' ')))\n",
    "a=x[0]\n",
    "b=x[1]\n",
    "c=x[2]\n",
    "if a and b and c>1:\n",
    "    print('yes')\n",
    "else:\n",
    "    print('no')\n"
   ]
  },
  {
   "cell_type": "code",
   "execution_count": null,
   "metadata": {},
   "outputs": [],
   "source": [
    "x=input().split(' ')\n",
    "n=int(x[0])\n",
    "k=int(x[1])\n",
    "y=list(map(int,input().split(' ')))\n",
    "i=0\n",
    "flag=0\n",
    "while(i<n):\n",
    "    if y[i]!=k:\n",
    "        flag=False\n",
    "    else:\n",
    "        flag=True\n",
    "        break\n",
    "    i+=1\n",
    "if flag==False:\n",
    "    print('no')\n",
    "else:\n",
    "    print('yes')"
   ]
  },
  {
   "cell_type": "code",
   "execution_count": null,
   "metadata": {},
   "outputs": [],
   "source": [
    "a=list(map(int,input().split(' ')))\n",
    "x=a[0]\n",
    "y=a[1]\n",
    "z=a[2]\n",
    "if x>1 and y>1 and z>1:\n",
    "    if (y**2)+(z**2)==x**2 or (z**2)+(x**2)==y**2 or (x**2)+(y**2)==z**2:\n",
    "        print('yes')\n",
    "    else:\n",
    "        print('no')\n",
    "else:\n",
    "    print('Invalid')"
   ]
  },
  {
   "cell_type": "code",
   "execution_count": null,
   "metadata": {},
   "outputs": [],
   "source": [
    "x=int(input())\n",
    "m=[]\n",
    "n=len(m)\n",
    "for i in range(0,20):\n",
    "    m.append(2**i)\n",
    "for j in range(0,n-1):\n",
    "    if m[j]>x:\n",
    "        print(m[j])\n",
    "        break\n",
    "    else:\n",
    "        print(m[j])"
   ]
  },
  {
   "cell_type": "code",
   "execution_count": null,
   "metadata": {},
   "outputs": [],
   "source": [
    "def mincoins(arr,newarr):\n",
    "  element=[]\n",
    "  if sum(newarr)==11:\n",
    "    return len(newarr)\n",
    "  if sum(newarr)>11:\n",
    "    return 99\n",
    "  for i in arr:\n",
    "    newarr.append(i)\n",
    "    a=mincoins(arr,newarr)\n",
    "    if type(a)==list:\n",
    "      for i in a:\n",
    "        element.append(i)\n",
    "    elif a and a!=99:\n",
    "      element.append(a)\n",
    "    newarr.pop(-1)\n",
    "  return element\n",
    "\n",
    "arr=list(map(int,input().split(' ')))\n",
    "ans=mincoins(arr,[])\n",
    "print(min(ans)) "
   ]
  },
  {
   "cell_type": "code",
   "execution_count": null,
   "metadata": {},
   "outputs": [],
   "source": [
    "m=int(input())\n",
    "n=list(map(int,input().split(' ')))\n",
    "l=[]\n",
    "for i in range(0,n-1):\n",
    "    l.append(i+1)\n",
    "    l.append(i)\n",
    "i+=2 \n",
    "print(*l)\n"
   ]
  },
  {
   "cell_type": "code",
   "execution_count": null,
   "metadata": {},
   "outputs": [],
   "source": [
    "%%time\n",
    "a=1\n",
    "while(a<5):\n",
    "    if a%2==0:\n",
    "        print(a)\n",
    "    a+=1"
   ]
  },
  {
   "cell_type": "code",
   "execution_count": null,
   "metadata": {},
   "outputs": [],
   "source": [
    "%%time\n",
    "for i in range(1,5):\n",
    "    if i%2==0:\n",
    "        print(i)"
   ]
  },
  {
   "cell_type": "code",
   "execution_count": null,
   "metadata": {},
   "outputs": [],
   "source": [
    "print(','.join(input()))"
   ]
  },
  {
   "cell_type": "code",
   "execution_count": null,
   "metadata": {},
   "outputs": [],
   "source": [
    "inputs = [list(map(int,input().split())) for i in range(2)]\n",
    "print(*inputs[0])\n",
    "print(*inputs[1])"
   ]
  },
  {
   "cell_type": "code",
   "execution_count": null,
   "metadata": {},
   "outputs": [],
   "source": [
    "x=[list(map(int,input().split(' '))) for i in range(3)]\n",
    "for y in range(3):\n",
    "    print(*x)"
   ]
  },
  {
   "cell_type": "code",
   "execution_count": null,
   "metadata": {},
   "outputs": [],
   "source": [
    "i=0\n",
    "d=[]\n",
    "while (i<3):\n",
    "    a=int(input())\n",
    "    d.append(a)\n",
    "    i+=1\n",
    "print(*d)"
   ]
  },
  {
   "cell_type": "code",
   "execution_count": null,
   "metadata": {},
   "outputs": [],
   "source": [
    "a=[int(input()) for i in range(3)]\n",
    "print(*a)"
   ]
  },
  {
   "cell_type": "code",
   "execution_count": null,
   "metadata": {},
   "outputs": [],
   "source": [
    "a=input()\n",
    "for i in a:\n",
    "  print(i)"
   ]
  },
  {
   "cell_type": "code",
   "execution_count": null,
   "metadata": {},
   "outputs": [],
   "source": [
    "print(*(i for i in input()))"
   ]
  },
  {
   "cell_type": "code",
   "execution_count": null,
   "metadata": {},
   "outputs": [],
   "source": [
    "y=int(input())\n",
    "x=[i*y for i in range(1,4)]\n",
    "print(*x)"
   ]
  },
  {
   "cell_type": "code",
   "execution_count": null,
   "metadata": {},
   "outputs": [],
   "source": [
    "a=[float(input()) for i in range(2)]\n",
    "print(\"%.1f\"% (a[0]+a[1]))"
   ]
  },
  {
   "cell_type": "code",
   "execution_count": null,
   "metadata": {},
   "outputs": [],
   "source": [
    "m=float(input())\n",
    "if abs(m)==0:\n",
    "  print(\"Zero\")\n",
    "elif abs(m)%2==0:\n",
    "  print(\"Even\")\n",
    "else:\n",
    "    print(\"Odd\")\n",
    "print(abs(m))"
   ]
  },
  {
   "cell_type": "code",
   "execution_count": null,
   "metadata": {},
   "outputs": [],
   "source": [
    "def month(x):\n",
    "    if x==2:\n",
    "        print(28)\n",
    "    elif x in [1,3,5,7,8,10,12]:\n",
    "        print(31)\n",
    "    elif x in [2,4,6,9,11]:\n",
    "        print(30)\n",
    "    else:\n",
    "        print('Error')\n",
    "\n",
    "\n",
    "month(int(input()))"
   ]
  },
  {
   "cell_type": "code",
   "execution_count": null,
   "metadata": {},
   "outputs": [],
   "source": [
    "a=((9/5)*float(input()))+32\n",
    "print(\"%0.2f\"% a)"
   ]
  },
  {
   "cell_type": "code",
   "execution_count": null,
   "metadata": {},
   "outputs": [],
   "source": [
    "print(int(input())**3)"
   ]
  },
  {
   "cell_type": "code",
   "execution_count": null,
   "metadata": {},
   "outputs": [],
   "source": [
    "a=[i*9 for i in range(int(input())+1) if i!=0]\n",
    "print(*a)"
   ]
  },
  {
   "cell_type": "code",
   "execution_count": null,
   "metadata": {},
   "outputs": [],
   "source": [
    "a=[int(input()) for x in range(2)]\n",
    "print(a[0]*a[1])"
   ]
  },
  {
   "cell_type": "code",
   "execution_count": null,
   "metadata": {},
   "outputs": [],
   "source": [
    "def fact(x):\n",
    "    num=1\n",
    "    if x==0:\n",
    "        print(1)\n",
    "    else:\n",
    "        for i in range(1, x+1):\n",
    "            num*=i\n",
    "        print(num)\n",
    "    return\n",
    "\n",
    "fact(int(input()))"
   ]
  },
  {
   "cell_type": "code",
   "execution_count": null,
   "metadata": {},
   "outputs": [],
   "source": [
    "def factorial(n):\n",
    "    if n == 0:\n",
    "        return 1\n",
    "    else:\n",
    "        return n * factorial(n-1)\n",
    "\n",
    "n = int(input(\"Enter a positive integer: \"))\n",
    "print(factorial(n))"
   ]
  },
  {
   "cell_type": "code",
   "execution_count": null,
   "metadata": {},
   "outputs": [],
   "source": [
    "print(1000*int(input()))\n",
    "print(100000*int(input()))"
   ]
  },
  {
   "cell_type": "code",
   "execution_count": null,
   "metadata": {},
   "outputs": [],
   "source": [
    "a=int(input())\n",
    "if (a%400==0 or a%4==0) and a%100!=0:\n",
    "  print('Y')\n",
    "else:\n",
    "  print('N')"
   ]
  },
  {
   "cell_type": "code",
   "execution_count": null,
   "metadata": {},
   "outputs": [],
   "source": [
    "a=list(map(int,str(input()).strip()))\n",
    "print(*a)"
   ]
  },
  {
   "cell_type": "code",
   "execution_count": null,
   "metadata": {},
   "outputs": [],
   "source": [
    "a=[x for x in range(1,int(input())+1) if x%2==0]\n",
    "for i in a:\n",
    "    print(i)"
   ]
  },
  {
   "cell_type": "code",
   "execution_count": null,
   "metadata": {},
   "outputs": [],
   "source": [
    "a=[int(input()) for x in range(3)]\n",
    "print(sorted(a)[-1])"
   ]
  },
  {
   "cell_type": "code",
   "execution_count": null,
   "metadata": {},
   "outputs": [],
   "source": [
    "def sum(num):\n",
    "    if num==0:\n",
    "        return 0\n",
    "    else:\n",
    "        return num + sum(num-1)\n",
    "\n",
    "\n",
    "print(sum(int(input())))"
   ]
  },
  {
   "cell_type": "code",
   "execution_count": null,
   "metadata": {},
   "outputs": [],
   "source": [
    "p,t,r=list(map(float,input().split(' ')))\n",
    "print('%0.2f'% ((p*t*r)/100))"
   ]
  },
  {
   "cell_type": "code",
   "execution_count": null,
   "metadata": {},
   "outputs": [],
   "source": [
    "print(min(*list(map(int,input().split(' ')))))"
   ]
  },
  {
   "cell_type": "code",
   "execution_count": null,
   "metadata": {},
   "outputs": [],
   "source": [
    "print(input()[::-1]) or print(\"\".join(reversed(input())))"
   ]
  },
  {
   "cell_type": "code",
   "execution_count": 10,
   "metadata": {},
   "outputs": [
    {
     "name": "stdout",
     "output_type": "stream",
     "text": [
      "unsaturated\n"
     ]
    }
   ],
   "source": [
    "bin=format(int(input()),'b')\n",
    "if int(bin) > 1001:\n",
    "    print('saturated')\n",
    "else:\n",
    "    print('unsaturated')"
   ]
  },
  {
   "cell_type": "code",
   "execution_count": null,
   "metadata": {},
   "outputs": [],
   "source": []
  }
 ],
 "metadata": {
  "kernelspec": {
   "display_name": "Python 3 (ipykernel)",
   "language": "python",
   "name": "python3"
  },
  "language_info": {
   "codemirror_mode": {
    "name": "ipython",
    "version": 3
   },
   "file_extension": ".py",
   "mimetype": "text/x-python",
   "name": "python",
   "nbconvert_exporter": "python",
   "pygments_lexer": "ipython3",
   "version": "3.10.8"
  },
  "vscode": {
   "interpreter": {
    "hash": "ebad67f52a29b0206a12581b47023d96d9a8ba93c13e5c33ae278f26166e0551"
   }
  }
 },
 "nbformat": 4,
 "nbformat_minor": 2
}
