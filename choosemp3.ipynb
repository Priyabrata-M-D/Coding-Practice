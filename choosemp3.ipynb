{
 "cells": [
  {
   "cell_type": "code",
   "execution_count": 1,
   "metadata": {},
   "outputs": [
    {
     "name": "stdout",
     "output_type": "stream",
     "text": [
      "Enter value in between 1 to 5:\n",
      "1: Believer\n",
      "2: Destination\n",
      "3: down\n",
      "4: Hymn\n",
      "5: Rasputin\n",
      "\n"
     ]
    }
   ],
   "source": [
    "print(\"Enter value in between 1 to 5:\\n1: Believer\\n2: Destination\\n3: down\\n4: Hymn\\n5: Rasputin\\n\")\n",
    "x=int(input())\n",
    "dictt={1:\"C:\\\\Users\\\\Priyabrata\\\\Downloads\\\\Music\\\\Believer.mp3\",\n",
    "2:\"C:\\\\Users\\\\Priyabrata\\\\Downloads\\\\Music\\\\Destination.mp3\",\n",
    "3:\"C:\\\\Users\\\\Priyabrata\\\\Downloads\\\\Music\\\\down.mp3\",\n",
    "4:\"C:\\\\Users\\\\Priyabrata\\\\Downloads\\\\Music\\\\Hymn.mp3\",\n",
    "5:\"C:\\\\Users\\\\Priyabrata\\\\Downloads\\\\Music\\\\Rasputin.mp3\"}\n",
    "if x<6:\n",
    "    from playsound import playsound\n",
    "    playsound(dictt.get(x))\n",
    "    x+=1\n",
    "else:\n",
    "    x==1"
   ]
  }
 ],
 "metadata": {
  "kernelspec": {
   "display_name": "Python 3",
   "language": "python",
   "name": "python3"
  },
  "language_info": {
   "codemirror_mode": {
    "name": "ipython",
    "version": 3
   },
   "file_extension": ".py",
   "mimetype": "text/x-python",
   "name": "python",
   "nbconvert_exporter": "python",
   "pygments_lexer": "ipython3",
   "version": "3.10.8"
  },
  "orig_nbformat": 4,
  "vscode": {
   "interpreter": {
    "hash": "ebad67f52a29b0206a12581b47023d96d9a8ba93c13e5c33ae278f26166e0551"
   }
  }
 },
 "nbformat": 4,
 "nbformat_minor": 2
}
